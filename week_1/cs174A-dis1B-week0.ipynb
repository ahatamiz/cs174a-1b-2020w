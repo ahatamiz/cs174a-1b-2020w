{
 "cells": [
  {
   "cell_type": "markdown",
   "metadata": {
    "slideshow": {
     "slide_type": "slide"
    }
   },
   "source": [
    "# CS-174A Discussion 1B, Week 0\n",
    "\n",
    "@ Ali Hatamizadeh \n",
    "\n",
    "@ ROLFE 3126 / Friday / 2:00pm- 3:50pm\n",
    "\n",
    "@ https://github.com/ahatamiz/cs174a-1b-2020w"
   ]
  },
  {
   "cell_type": "markdown",
   "metadata": {
    "slideshow": {
     "slide_type": "slide"
    }
   },
   "source": [
    "# Outline\n",
    "\n",
    "- About this course\n",
    "- JavaScript and WebGL Basic\n",
    "- Assignment 1"
   ]
  },
  {
   "cell_type": "markdown",
   "metadata": {
    "slideshow": {
     "slide_type": "slide"
    }
   },
   "source": [
    "# CS-174A Introduction\n",
    "\n",
    "\n",
    "## About Me: \n",
    "\n",
    "- Ali Hatamizadeh, Ph.D student in Computer Science\n",
    "\n",
    "- Office hours: Eng-VI 366, Friday 4:00 - 6:00 PM\n",
    "\n",
    "- Email: ahatamiz@ucla.edu"
   ]
  },
  {
   "cell_type": "markdown",
   "metadata": {
    "slideshow": {
     "slide_type": "slide"
    }
   },
   "source": [
    "### Grading Policies \n",
    "- 4 assignments (0 + 10 + 10 + 10): 30 pts\n",
    "- Team project: 30 pts\n",
    "- Midterm: 15 pts\n",
    "- Final: 25 pts\n",
    "\n",
    "(May change. Stay tuned till the next lecture)\n"
   ]
  },
  {
   "cell_type": "markdown",
   "metadata": {
    "slideshow": {
     "slide_type": "slide"
    }
   },
   "source": [
    "# JavaScript Basics\n",
    "\n",
    "JavaScript can change HTML content"
   ]
  },
  {
   "cell_type": "code",
   "execution_count": 1,
   "metadata": {
    "slideshow": {
     "slide_type": "slide"
    }
   },
   "outputs": [
    {
     "data": {
      "text/html": [
       "<p id=\"demo\">JavaScript can change HTML content.</p>\n",
       "<button type=\"button\" onclick='document.getElementById(\"demo\").innerHTML = \"Hello JavaScript!\"'>Click Me!</button>\n"
      ],
      "text/plain": [
       "<IPython.core.display.HTML object>"
      ]
     },
     "metadata": {},
     "output_type": "display_data"
    }
   ],
   "source": [
    "%%html\n",
    "<p id=\"demo\">JavaScript can change HTML content.</p>\n",
    "<button type=\"button\" onclick='document.getElementById(\"demo\").innerHTML = \"Hello JavaScript!\"'>Click Me!</button>"
   ]
  },
  {
   "cell_type": "markdown",
   "metadata": {},
   "source": [
    "## Let vs Var vs Constant\n",
    "\n",
    "var: When you declare a variable with var, its scope is not limited to the block in which it is defined. It's limited to the function in which it is defined. \n",
    "```js\n",
    "function start(){\n",
    "for (var i=0;i<5;i++){\n",
    "\n",
    "}\n",
    "\n",
    "element.text(i)\n",
    "\n",
    "}\n",
    "```"
   ]
  },
  {
   "cell_type": "code",
   "execution_count": 2,
   "metadata": {
    "slideshow": {
     "slide_type": "slide"
    }
   },
   "outputs": [
    {
     "data": {
      "application/javascript": [
       "\n",
       "function start(){\n",
       "for (var i=0;i<5;i++){\n",
       "}\n",
       "\n",
       "element.text(i);\n",
       "\n",
       "\n",
       "}\n",
       "\n",
       "start()\n"
      ],
      "text/plain": [
       "<IPython.core.display.Javascript object>"
      ]
     },
     "metadata": {},
     "output_type": "display_data"
    }
   ],
   "source": [
    "%%js\n",
    "\n",
    "function start(){\n",
    "for (var i=0;i<5;i++){\n",
    "}\n",
    "\n",
    "element.text(i);\n",
    "\n",
    "\n",
    "}\n",
    "\n",
    "start()"
   ]
  },
  {
   "cell_type": "markdown",
   "metadata": {
    "slideshow": {
     "slide_type": "slide"
    }
   },
   "source": [
    "## Let vs Var vs Constant\n",
    "\n",
    "let and constant are block-scoped\n",
    "```js\n",
    "function start(){\n",
    "for (let i=0;i<5;i++){\n",
    "}\n",
    "\n",
    "element.text(i)\n",
    "\n",
    "}\n",
    "```"
   ]
  },
  {
   "cell_type": "code",
   "execution_count": 3,
   "metadata": {
    "slideshow": {
     "slide_type": "slide"
    }
   },
   "outputs": [
    {
     "data": {
      "application/javascript": [
       "\n",
       "function start(){\n",
       "for (let i=0;i<5;i++){\n",
       "}\n",
       "\n",
       "element.text(i)\n",
       "\n",
       "}\n",
       "\n",
       "start()\n"
      ],
      "text/plain": [
       "<IPython.core.display.Javascript object>"
      ]
     },
     "metadata": {},
     "output_type": "display_data"
    }
   ],
   "source": [
    "%%js\n",
    "\n",
    "function start(){\n",
    "for (let i=0;i<5;i++){\n",
    "}\n",
    "\n",
    "element.text(i)\n",
    "\n",
    "}\n",
    "\n",
    "start()"
   ]
  },
  {
   "cell_type": "markdown",
   "metadata": {
    "slideshow": {
     "slide_type": "slide"
    }
   },
   "source": [
    "## Some additional points\n",
    "\n",
    "When you use var outside of a function, it creates a global variable and attaches it to the window object in the browser.\n",
    "\n",
    "When you use let to create a global variable, it is not attached to the window object. "
   ]
  },
  {
   "cell_type": "markdown",
   "metadata": {
    "slideshow": {
     "slide_type": "slide"
    }
   },
   "source": [
    "## Variables and Data types\n",
    "\n",
    "JavaScript variables are containers for storing data values.\n",
    "\n",
    "JavaScript variables can hold many **data types**: numbers, strings, objects and more:\n",
    "```js\n",
    "var length = 16;                            // Number\n",
    "var lastName = \"Johnson\";                   // String\n",
    "var x = {firstName:\"John\", lastName:\"Doe\"}; // Object\n",
    "```\n"
   ]
  },
  {
   "cell_type": "code",
   "execution_count": 4,
   "metadata": {
    "slideshow": {
     "slide_type": "slide"
    }
   },
   "outputs": [
    {
     "data": {
      "application/javascript": [
       "var num = 16;                                  // Number\n",
       "element.text(\"The number is \" + num)\n"
      ],
      "text/plain": [
       "<IPython.core.display.Javascript object>"
      ]
     },
     "metadata": {},
     "output_type": "display_data"
    }
   ],
   "source": [
    "%%js\n",
    "var num = 16;                                  // Number\n",
    "element.text(\"The number is \" + num)"
   ]
  },
  {
   "cell_type": "code",
   "execution_count": 5,
   "metadata": {
    "slideshow": {
     "slide_type": "slide"
    }
   },
   "outputs": [
    {
     "data": {
      "application/javascript": [
       "element.text('here we go')\n"
      ],
      "text/plain": [
       "<IPython.core.display.Javascript object>"
      ]
     },
     "metadata": {},
     "output_type": "display_data"
    }
   ],
   "source": [
    "%%js\n",
    "element.text('here we go')\n"
   ]
  },
  {
   "cell_type": "markdown",
   "metadata": {
    "slideshow": {
     "slide_type": "slide"
    }
   },
   "source": [
    "## Objects\n",
    "\n",
    "You define (and create) a JavaScript object with an object literal:\n",
    "\n",
    "```js\n",
    "var person = {firstName:\"John\", lastName:\"Doe\", age:50, eyeColor:\"blue\"};\n",
    "```"
   ]
  },
  {
   "cell_type": "markdown",
   "metadata": {
    "slideshow": {
     "slide_type": "slide"
    }
   },
   "source": [
    "## Objects\n",
    "\n",
    "Another way of creating object\n",
    "You define (and create) a JavaScript object with an object literal:\n",
    "\n",
    "```js\n",
    "var person= new Object()\n",
    "person.firstName=\"John\"\n",
    "person.age=50\n",
    "person.eyeColor=\"blue\"\n",
    "```\n",
    "\n"
   ]
  },
  {
   "cell_type": "code",
   "execution_count": 6,
   "metadata": {
    "slideshow": {
     "slide_type": "slide"
    }
   },
   "outputs": [
    {
     "data": {
      "application/javascript": [
       "var person= new Object()\n",
       "person.firstName=\"John\"\n",
       "person.age=50\n",
       "person.eyeColor=\"blue\"\n",
       "element.text(person['eyeColor'])\n"
      ],
      "text/plain": [
       "<IPython.core.display.Javascript object>"
      ]
     },
     "metadata": {},
     "output_type": "display_data"
    }
   ],
   "source": [
    "%%js\n",
    "var person= new Object()\n",
    "person.firstName=\"John\"\n",
    "person.age=50\n",
    "person.eyeColor=\"blue\"\n",
    "element.text(person['eyeColor'])"
   ]
  },
  {
   "cell_type": "code",
   "execution_count": 7,
   "metadata": {
    "scrolled": true,
    "slideshow": {
     "slide_type": "slide"
    }
   },
   "outputs": [
    {
     "data": {
      "application/javascript": [
       "var person = {firstName:\"John\", lastName:\"Doe\", age:50, eyeColor:\"blue\"};\n",
       "element.text(person.firstName + \"'s age is \" + person[\"age\"]);  // two ways for accessing the property of an object\n",
       "\n",
       "var name = new String(\"John\");\n",
       "var name_2 = \"John\";\n",
       "element.text(name === \"John\"); \n"
      ],
      "text/plain": [
       "<IPython.core.display.Javascript object>"
      ]
     },
     "metadata": {},
     "output_type": "display_data"
    }
   ],
   "source": [
    "%%js\n",
    "var person = {firstName:\"John\", lastName:\"Doe\", age:50, eyeColor:\"blue\"};\n",
    "element.text(person.firstName + \"'s age is \" + person[\"age\"]);  // two ways for accessing the property of an object\n",
    "\n",
    "var name = new String(\"John\");\n",
    "var name_2 = \"John\";\n",
    "element.text(name === \"John\"); "
   ]
  },
  {
   "cell_type": "markdown",
   "metadata": {
    "slideshow": {
     "slide_type": "slide"
    }
   },
   "source": [
    "## Functions\n",
    "\n",
    "A JavaScript function is a block of code designed to perform a particular task.\n",
    "\n",
    "A JavaScript function is executed when \"something\" invokes it (calls it)."
   ]
  },
  {
   "cell_type": "code",
   "execution_count": 8,
   "metadata": {
    "slideshow": {
     "slide_type": "slide"
    }
   },
   "outputs": [
    {
     "data": {
      "application/javascript": [
       "function myFunction(p1, p2) {\n",
       "  return p1 * p2;   // The function returns the product of p1 and p2\n",
       "}\n",
       "\n",
       "var a = 3;\n",
       "var b = 4;\n",
       "element.text(\"The product of a and b is \" + myFunction(a,b))\n"
      ],
      "text/plain": [
       "<IPython.core.display.Javascript object>"
      ]
     },
     "metadata": {},
     "output_type": "display_data"
    }
   ],
   "source": [
    "%%js\n",
    "function myFunction(p1, p2) {\n",
    "  return p1 * p2;   // The function returns the product of p1 and p2\n",
    "}\n",
    "\n",
    "var a = 3;\n",
    "var b = 4;\n",
    "element.text(\"The product of a and b is \" + myFunction(a,b))"
   ]
  },
  {
   "cell_type": "markdown",
   "metadata": {
    "slideshow": {
     "slide_type": "slide"
    }
   },
   "source": [
    "## Factory Functions\n",
    "\n",
    "A factory function creates an object\n",
    "\n",
    "```js\n",
    "function createCircle(radius,location){\n",
    "    \n",
    "    return {\n",
    "        radius:radius,\n",
    "        location:location,\n",
    "        visible:true,\n",
    "        draw: function(){element.text('Here we go : draw')}\n",
    "    }\n",
    "\n",
    "}\n",
    "\n",
    "```\n"
   ]
  },
  {
   "cell_type": "code",
   "execution_count": 9,
   "metadata": {
    "slideshow": {
     "slide_type": "slide"
    }
   },
   "outputs": [
    {
     "data": {
      "application/javascript": [
       "function createCircle(radius){\n",
       "    \n",
       "    return {\n",
       "        radius:radius,\n",
       "        visible:true,\n",
       "        draw: function(){element.text('draw')}\n",
       "    }\n",
       "\n",
       "}\n",
       "\n",
       "const circle1=createCircle(1)\n",
       "circle1.draw()\n"
      ],
      "text/plain": [
       "<IPython.core.display.Javascript object>"
      ]
     },
     "metadata": {},
     "output_type": "display_data"
    }
   ],
   "source": [
    "%%js \n",
    "function createCircle(radius){\n",
    "    \n",
    "    return {\n",
    "        radius:radius,\n",
    "        visible:true,\n",
    "        draw: function(){element.text('draw')}\n",
    "    }\n",
    "\n",
    "}\n",
    "\n",
    "const circle1=createCircle(1)\n",
    "circle1.draw()\n"
   ]
  },
  {
   "cell_type": "markdown",
   "metadata": {
    "slideshow": {
     "slide_type": "slide"
    }
   },
   "source": [
    "## JavaScript this Keyword\n",
    "\n",
    "\" this \" in JavaScript refers to the object that is executing the current function\n",
    "\n",
    "If the function is part of an object ( in other words is a method of that object): \" this \" refrences the object itself\n",
    "\n",
    "Otherwise, \" this \" refers to the global object ( which is window object in browsers)"
   ]
  },
  {
   "cell_type": "code",
   "execution_count": 10,
   "metadata": {
    "slideshow": {
     "slide_type": "slide"
    }
   },
   "outputs": [
    {
     "data": {
      "application/javascript": [
       "\n",
       "const video ={\n",
       "    title:'a',\n",
       "    play(){\n",
       "        element.text(this)\n",
       "    }\n",
       "}\n",
       "\n",
       "video.play()\n"
      ],
      "text/plain": [
       "<IPython.core.display.Javascript object>"
      ]
     },
     "metadata": {},
     "output_type": "display_data"
    }
   ],
   "source": [
    "%%js \n",
    "\n",
    "const video ={\n",
    "    title:'a',\n",
    "    play(){\n",
    "        element.text(this)\n",
    "    }\n",
    "}\n",
    "\n",
    "video.play()\n"
   ]
  },
  {
   "cell_type": "code",
   "execution_count": 11,
   "metadata": {
    "slideshow": {
     "slide_type": "slide"
    }
   },
   "outputs": [
    {
     "data": {
      "application/javascript": [
       "\n",
       "const video ={\n",
       "    title:'a',\n",
       "    play(){\n",
       "        element.text(this)\n",
       "    }\n",
       "}\n",
       "\n",
       "function playVideo(){\n",
       "    element.text(this)\n",
       "}\n",
       "\n",
       "playVideo()\n",
       "\n"
      ],
      "text/plain": [
       "<IPython.core.display.Javascript object>"
      ]
     },
     "metadata": {},
     "output_type": "display_data"
    }
   ],
   "source": [
    "%%js \n",
    "\n",
    "const video ={\n",
    "    title:'a',\n",
    "    play(){\n",
    "        element.text(this)\n",
    "    }\n",
    "}\n",
    "\n",
    "function playVideo(){\n",
    "    element.text(this)\n",
    "}\n",
    "\n",
    "playVideo()\n",
    "\n"
   ]
  },
  {
   "cell_type": "markdown",
   "metadata": {
    "slideshow": {
     "slide_type": "slide"
    }
   },
   "source": [
    "## Constructor Functions\n",
    "\n",
    "A constructor function also creates an object. Be aware of the naming conventions:\n",
    "\n",
    "Camel notation: oneTwoThree    ( Used for naming factory functions)\n",
    "\n",
    "Pascal notation : OneTwoThree  ( Used for naming constructor functions)\n",
    "\n",
    "```js\n",
    "\n",
    "function Circle(radius,location){\n",
    "    //this here is an empty object to which we add radius and location \n",
    "    //JavaScripts objects are dynamic. Once created, we can add aditional methods to them.\n",
    "    this.radius=radius\n",
    "    this.location=location\n",
    "    this.visible=true\n",
    "    this.draw=function(){element.text('Here we go : draw')}\n",
    "    \n",
    "}\n",
    "\n",
    "\n",
    "```\n"
   ]
  },
  {
   "cell_type": "code",
   "execution_count": 12,
   "metadata": {
    "slideshow": {
     "slide_type": "slide"
    }
   },
   "outputs": [
    {
     "data": {
      "application/javascript": [
       "\n",
       "function Circle(radius){\n",
       "    //this here is an empty object to which we add radius\n",
       "    //JavaScripts objects are dynamic. Once created, we can add aditional methods to them.\n",
       "    this.radius=radius\n",
       "    this.visible=true\n",
       "    this.draw=function(){element.text('Here we go : draw')}\n",
       "    \n",
       "}\n",
       "\n",
       "const circle1=new Circle(1)\n",
       "circle1.draw()\n"
      ],
      "text/plain": [
       "<IPython.core.display.Javascript object>"
      ]
     },
     "metadata": {},
     "output_type": "display_data"
    }
   ],
   "source": [
    "%%js\n",
    "\n",
    "function Circle(radius){\n",
    "    //this here is an empty object to which we add radius\n",
    "    //JavaScripts objects are dynamic. Once created, we can add aditional methods to them.\n",
    "    this.radius=radius\n",
    "    this.visible=true\n",
    "    this.draw=function(){element.text('Here we go : draw')}\n",
    "    \n",
    "}\n",
    "\n",
    "const circle1=new Circle(1)\n",
    "circle1.draw()\n"
   ]
  },
  {
   "cell_type": "markdown",
   "metadata": {
    "slideshow": {
     "slide_type": "subslide"
    }
   },
   "source": [
    "## Object Methods\n"
   ]
  },
  {
   "cell_type": "code",
   "execution_count": 13,
   "metadata": {
    "slideshow": {
     "slide_type": "-"
    }
   },
   "outputs": [
    {
     "data": {
      "application/javascript": [
       "var person = {\n",
       "  firstName: \"John\",\n",
       "  lastName : \"Doe\",\n",
       "  id       : 5566,\n",
       "  fullName : function() {\n",
       "    return this.firstName + \" \" + this.lastName;\n",
       "  }\n",
       "};\n",
       "element.text(person.fullName())\n"
      ],
      "text/plain": [
       "<IPython.core.display.Javascript object>"
      ]
     },
     "metadata": {},
     "output_type": "display_data"
    }
   ],
   "source": [
    "%%js\n",
    "var person = {\n",
    "  firstName: \"John\",\n",
    "  lastName : \"Doe\",\n",
    "  id       : 5566,\n",
    "  fullName : function() {\n",
    "    return this.firstName + \" \" + this.lastName;\n",
    "  }\n",
    "};\n",
    "element.text(person.fullName())"
   ]
  },
  {
   "cell_type": "markdown",
   "metadata": {
    "slideshow": {
     "slide_type": "subslide"
    }
   },
   "source": [
    "### Object Constructors"
   ]
  },
  {
   "cell_type": "code",
   "execution_count": 14,
   "metadata": {},
   "outputs": [
    {
     "data": {
      "application/javascript": [
       "function Person(first, last, age, eye) {\n",
       "  this.firstName = first;\n",
       "  this.lastName = last;\n",
       "  this.age = age;\n",
       "  this.eyeColor = eye;\n",
       "}\n",
       "\n",
       "var myFather = new Person(\"John\", \"Doe\", 50, \"blue\");\n",
       "\n",
       "element.text(\"My father is \" + myFather.firstName + \" \" + myFather.lastName + \".\")\n",
       "//element.text(myFather)\n"
      ],
      "text/plain": [
       "<IPython.core.display.Javascript object>"
      ]
     },
     "metadata": {},
     "output_type": "display_data"
    }
   ],
   "source": [
    "%%js\n",
    "function Person(first, last, age, eye) {\n",
    "  this.firstName = first;\n",
    "  this.lastName = last;\n",
    "  this.age = age;\n",
    "  this.eyeColor = eye;\n",
    "}\n",
    "\n",
    "var myFather = new Person(\"John\", \"Doe\", 50, \"blue\");\n",
    "\n",
    "element.text(\"My father is \" + myFather.firstName + \" \" + myFather.lastName + \".\")\n",
    "//element.text(myFather)"
   ]
  },
  {
   "cell_type": "markdown",
   "metadata": {
    "slideshow": {
     "slide_type": "subslide"
    }
   },
   "source": [
    "## JavaScript Classes\n",
    "\n",
    "A class is a type of function, but instead of using the keyword `function` to initiate it, we use the keyword `class`, and the properties is assigned inside a `constructor()` method."
   ]
  },
  {
   "cell_type": "markdown",
   "metadata": {
    "slideshow": {
     "slide_type": "subslide"
    }
   },
   "source": [
    "### Class Definition\n",
    "Use the keyword `class` to create a class, and always add a `constructor` method.\n",
    "\n",
    "The `constructor` method is called each time the class object is initialized.\n",
    "\n",
    "```js\n",
    "class Car {\n",
    "  constructor(brand) {\n",
    "    this.carname = brand;\n",
    "  }\n",
    "}\n",
    "mycar = new Car(\"Ford\");\n",
    "```"
   ]
  },
  {
   "cell_type": "markdown",
   "metadata": {
    "slideshow": {
     "slide_type": "subslide"
    }
   },
   "source": [
    "## A Quick Way to Learn JS\n",
    "\n",
    "- https://www.w3schools.com/js/"
   ]
  },
  {
   "cell_type": "markdown",
   "metadata": {
    "slideshow": {
     "slide_type": "slide"
    }
   },
   "source": [
    "# WebGL Basics\n",
    "\n",
    "WebGL (Web Graphics Library) is a JavaScript API for rendering interactive 3D and 2D graphics within any compatible web browser without the use of plug-ins. WebGL does so by introducing an API that closely conforms to OpenGL ES 2.0 that can be used in HTML5 `<canvas>` elements.\n",
    "\n",
    "- [Demo 0: Clearing with colors](demo_0/demo.html). How to clear the rendering context with a solid color.\n",
    "- [Demo 1: Simple color animation](demo_1/index.html). A very basic color animation."
   ]
  },
  {
   "cell_type": "markdown",
   "metadata": {
    "slideshow": {
     "slide_type": "subslide"
    }
   },
   "source": [
    "## ... and some other projects\n",
    "- [WebGL Wather](http://madebyevan.com/webgl-water/)\n",
    "- [Make me pulse wish 2017](http://2017.makemepulse.com)"
   ]
  },
  {
   "cell_type": "markdown",
   "metadata": {
    "slideshow": {
     "slide_type": "slide"
    }
   },
   "source": [
    "# Assignment 1: Environment Setup and Creating a Simple Rectangle\n",
    "\n",
    "Posted on CCLE (Week 1)"
   ]
  },
  {
   "cell_type": "code",
   "execution_count": null,
   "metadata": {},
   "outputs": [],
   "source": []
  }
 ],
 "metadata": {
  "celltoolbar": "Slideshow",
  "kernelspec": {
   "display_name": "Python 3",
   "language": "python",
   "name": "python3"
  },
  "language_info": {
   "codemirror_mode": {
    "name": "ipython",
    "version": 3
   },
   "file_extension": ".py",
   "mimetype": "text/x-python",
   "name": "python",
   "nbconvert_exporter": "python",
   "pygments_lexer": "ipython3",
   "version": "3.6.5"
  }
 },
 "nbformat": 4,
 "nbformat_minor": 2
}
